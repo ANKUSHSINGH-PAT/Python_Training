{
  "nbformat": 4,
  "nbformat_minor": 0,
  "metadata": {
    "colab": {
      "provenance": [],
      "authorship_tag": "ABX9TyPIz04wUuxvQjrId020EKLW",
      "include_colab_link": true
    },
    "kernelspec": {
      "name": "python3",
      "display_name": "Python 3"
    },
    "language_info": {
      "name": "python"
    }
  },
  "cells": [
    {
      "cell_type": "markdown",
      "metadata": {
        "id": "view-in-github",
        "colab_type": "text"
      },
      "source": [
        "<a href=\"https://colab.research.google.com/github/ANKUSHSINGH-PAT/Python_Training/blob/main/Untitled0.ipynb\" target=\"_parent\"><img src=\"https://colab.research.google.com/assets/colab-badge.svg\" alt=\"Open In Colab\"/></a>"
      ]
    },
    {
      "cell_type": "code",
      "execution_count": 33,
      "metadata": {
        "colab": {
          "base_uri": "https://localhost:8080/"
        },
        "id": "kHDNweMryn_N",
        "outputId": "19c57e1e-4085-4b54-fd39-6838a9155a9c"
      },
      "outputs": [
        {
          "output_type": "stream",
          "name": "stdout",
          "text": [
            "Requirement already satisfied: gensim in /usr/local/lib/python3.10/dist-packages (4.3.3)\n",
            "Requirement already satisfied: numpy<2.0,>=1.18.5 in /usr/local/lib/python3.10/dist-packages (from gensim) (1.26.4)\n",
            "Requirement already satisfied: scipy<1.14.0,>=1.7.0 in /usr/local/lib/python3.10/dist-packages (from gensim) (1.13.1)\n",
            "Requirement already satisfied: smart-open>=1.8.1 in /usr/local/lib/python3.10/dist-packages (from gensim) (7.0.4)\n",
            "Requirement already satisfied: wrapt in /usr/local/lib/python3.10/dist-packages (from smart-open>=1.8.1->gensim) (1.16.0)\n"
          ]
        }
      ],
      "source": [
        "pip install gensim"
      ]
    },
    {
      "cell_type": "code",
      "source": [
        "import nltk"
      ],
      "metadata": {
        "id": "vkkwEMk00QiH"
      },
      "execution_count": 34,
      "outputs": []
    },
    {
      "cell_type": "code",
      "source": [
        "nltk.download('punkt')\n",
        "nltk.download('stopwords')\n",
        "nltk.download('wordnet')"
      ],
      "metadata": {
        "colab": {
          "base_uri": "https://localhost:8080/"
        },
        "id": "E68S4IUw0MQs",
        "outputId": "45d1755a-3b50-49c8-c9f8-4a31af30e80a"
      },
      "execution_count": 35,
      "outputs": [
        {
          "output_type": "stream",
          "name": "stderr",
          "text": [
            "[nltk_data] Downloading package punkt to /root/nltk_data...\n",
            "[nltk_data]   Package punkt is already up-to-date!\n",
            "[nltk_data] Downloading package stopwords to /root/nltk_data...\n",
            "[nltk_data]   Package stopwords is already up-to-date!\n",
            "[nltk_data] Downloading package wordnet to /root/nltk_data...\n",
            "[nltk_data]   Package wordnet is already up-to-date!\n"
          ]
        },
        {
          "output_type": "execute_result",
          "data": {
            "text/plain": [
              "True"
            ]
          },
          "metadata": {},
          "execution_count": 35
        }
      ]
    },
    {
      "cell_type": "code",
      "source": [
        "para=\"\"\"\n",
        "I have three visions for India. In 3000 years of our history people from all over the world have come and invaded us, captured our lands, conquered our minds. From Alexander onwards the Greeks, the Turks, the Moguls, the Portuguese, the British, the French, the Dutch, all of them came and looted us, took over what was ours. Yet we have not done this to any other nation.\n",
        "\n",
        "We have not conquered anyone. We have not grabbed their land, their culture and their history and tried to enforce our way of life on them. Why? Because we respect the freedom of others. That is why my FIRST VISION is that of FREEDOM. I believe that India got its first vision of this in 1857, when we started the war of Independence. It is this freedom that we must protect and nurture and build on. If we are not free, no one will respect us.\n",
        "\n",
        "We have 10 percent growth rate in most areas. Our poverty levels are falling. Our achievements are being globally recognised today. Yet we lack the self-confidence to see ourselves as a developed nation, self-reliant and self-assured. Isn’t this incorrect? MY SECOND VISION for India is DEVELOPMENT. For fifty years we have been a developing nation. It is time we see ourselves as a developed nation. We are among top five nations in the world in terms of GDP.\n",
        "\n",
        "I have a THIRD VISION. India must stand up to the world. Because I believe that unless India stands up to the world, no one will respect us. Only strength respects strength. We must be strong not only as a military power but also as an economic power. Both must go hand-in-hand. My good fortune was to have worked with three great minds. Dr.Vikram Sarabhai, of the Dept. of Space, Professor Satish Dhawan, who succeeded him and Dr. Brahm Prakash, father of nuclear material. I was lucky to have worked with all three of them closely and consider this the great opportunity of my life.\n",
        "\n",
        "I was in Hyderabad giving this lecture, when a 14 year-old girl asked me for my autograph. I asked her what her goal in life is. She replied: I want to live in a developed India. For her, you and I will have to build this developed India. You must proclaim India is not an underdeveloped nation; it is a highly developed nation.\n",
        "\n",
        "You say that our government is inefficient. You say that our laws are too old. You say that the municipality does not pick up the garbage. You say that the phones don’t work, the railways are a joke, the airline is the worst in the world, and mails never reach their destination. You say that our country has been fed to the dogs and is the absolute pits. You say, say and say. What do you do about it?\n",
        "\"\"\""
      ],
      "metadata": {
        "id": "PueD-K99yxHm"
      },
      "execution_count": 36,
      "outputs": []
    },
    {
      "cell_type": "code",
      "source": [
        "from nltk.stem import WordNetLemmatizer\n",
        "from nltk.tokenize import sent_tokenize\n",
        "from nltk.corpus import stopwords\n",
        "import re\n",
        "import gensim"
      ],
      "metadata": {
        "id": "SoruNC2_zPh6"
      },
      "execution_count": 49,
      "outputs": []
    },
    {
      "cell_type": "code",
      "source": [
        "stemmer=WordNetLemmatizer()"
      ],
      "metadata": {
        "id": "MUFbBRHozUfk"
      },
      "execution_count": 38,
      "outputs": []
    },
    {
      "cell_type": "code",
      "source": [
        "tokens=sent_tokenize(para)"
      ],
      "metadata": {
        "id": "qKdoKCZ5zZv2"
      },
      "execution_count": 39,
      "outputs": []
    },
    {
      "cell_type": "code",
      "source": [
        "tokens"
      ],
      "metadata": {
        "colab": {
          "base_uri": "https://localhost:8080/"
        },
        "id": "dqj-I78K0XqR",
        "outputId": "268b15ee-95ae-4629-dbbb-e6b87eaa03f7"
      },
      "execution_count": 40,
      "outputs": [
        {
          "output_type": "execute_result",
          "data": {
            "text/plain": [
              "['\\nI have three visions for India.',\n",
              " 'In 3000 years of our history people from all over the world have come and invaded us, captured our lands, conquered our minds.',\n",
              " 'From Alexander onwards the Greeks, the Turks, the Moguls, the Portuguese, the British, the French, the Dutch, all of them came and looted us, took over what was ours.',\n",
              " 'Yet we have not done this to any other nation.',\n",
              " 'We have not conquered anyone.',\n",
              " 'We have not grabbed their land, their culture and their history and tried to enforce our way of life on them.',\n",
              " 'Why?',\n",
              " 'Because we respect the freedom of others.',\n",
              " 'That is why my FIRST VISION is that of FREEDOM.',\n",
              " 'I believe that India got its first vision of this in 1857, when we started the war of Independence.',\n",
              " 'It is this freedom that we must protect and nurture and build on.',\n",
              " 'If we are not free, no one will respect us.',\n",
              " 'We have 10 percent growth rate in most areas.',\n",
              " 'Our poverty levels are falling.',\n",
              " 'Our achievements are being globally recognised today.',\n",
              " 'Yet we lack the self-confidence to see ourselves as a developed nation, self-reliant and self-assured.',\n",
              " 'Isn’t this incorrect?',\n",
              " 'MY SECOND VISION for India is DEVELOPMENT.',\n",
              " 'For fifty years we have been a developing nation.',\n",
              " 'It is time we see ourselves as a developed nation.',\n",
              " 'We are among top five nations in the world in terms of GDP.',\n",
              " 'I have a THIRD VISION.',\n",
              " 'India must stand up to the world.',\n",
              " 'Because I believe that unless India stands up to the world, no one will respect us.',\n",
              " 'Only strength respects strength.',\n",
              " 'We must be strong not only as a military power but also as an economic power.',\n",
              " 'Both must go hand-in-hand.',\n",
              " 'My good fortune was to have worked with three great minds.',\n",
              " 'Dr.Vikram Sarabhai, of the Dept.',\n",
              " 'of Space, Professor Satish Dhawan, who succeeded him and Dr. Brahm Prakash, father of nuclear material.',\n",
              " 'I was lucky to have worked with all three of them closely and consider this the great opportunity of my life.',\n",
              " 'I was in Hyderabad giving this lecture, when a 14 year-old girl asked me for my autograph.',\n",
              " 'I asked her what her goal in life is.',\n",
              " 'She replied: I want to live in a developed India.',\n",
              " 'For her, you and I will have to build this developed India.',\n",
              " 'You must proclaim India is not an underdeveloped nation; it is a highly developed nation.',\n",
              " 'You say that our government is inefficient.',\n",
              " 'You say that our laws are too old.',\n",
              " 'You say that the municipality does not pick up the garbage.',\n",
              " 'You say that the phones don’t work, the railways are a joke, the airline is the worst in the world, and mails never reach their destination.',\n",
              " 'You say that our country has been fed to the dogs and is the absolute pits.',\n",
              " 'You say, say and say.',\n",
              " 'What do you do about it?']"
            ]
          },
          "metadata": {},
          "execution_count": 40
        }
      ]
    },
    {
      "cell_type": "code",
      "source": [
        "stopwords=stopwords.words('english')"
      ],
      "metadata": {
        "id": "JQb3Af-G0aRd"
      },
      "execution_count": 41,
      "outputs": []
    },
    {
      "cell_type": "code",
      "source": [
        "stopwords"
      ],
      "metadata": {
        "colab": {
          "base_uri": "https://localhost:8080/"
        },
        "id": "J6a_sEdu277v",
        "outputId": "2768c861-b253-438e-e831-99cc10f138c1"
      },
      "execution_count": 45,
      "outputs": [
        {
          "output_type": "execute_result",
          "data": {
            "text/plain": [
              "['i',\n",
              " 'me',\n",
              " 'my',\n",
              " 'myself',\n",
              " 'we',\n",
              " 'our',\n",
              " 'ours',\n",
              " 'ourselves',\n",
              " 'you',\n",
              " \"you're\",\n",
              " \"you've\",\n",
              " \"you'll\",\n",
              " \"you'd\",\n",
              " 'your',\n",
              " 'yours',\n",
              " 'yourself',\n",
              " 'yourselves',\n",
              " 'he',\n",
              " 'him',\n",
              " 'his',\n",
              " 'himself',\n",
              " 'she',\n",
              " \"she's\",\n",
              " 'her',\n",
              " 'hers',\n",
              " 'herself',\n",
              " 'it',\n",
              " \"it's\",\n",
              " 'its',\n",
              " 'itself',\n",
              " 'they',\n",
              " 'them',\n",
              " 'their',\n",
              " 'theirs',\n",
              " 'themselves',\n",
              " 'what',\n",
              " 'which',\n",
              " 'who',\n",
              " 'whom',\n",
              " 'this',\n",
              " 'that',\n",
              " \"that'll\",\n",
              " 'these',\n",
              " 'those',\n",
              " 'am',\n",
              " 'is',\n",
              " 'are',\n",
              " 'was',\n",
              " 'were',\n",
              " 'be',\n",
              " 'been',\n",
              " 'being',\n",
              " 'have',\n",
              " 'has',\n",
              " 'had',\n",
              " 'having',\n",
              " 'do',\n",
              " 'does',\n",
              " 'did',\n",
              " 'doing',\n",
              " 'a',\n",
              " 'an',\n",
              " 'the',\n",
              " 'and',\n",
              " 'but',\n",
              " 'if',\n",
              " 'or',\n",
              " 'because',\n",
              " 'as',\n",
              " 'until',\n",
              " 'while',\n",
              " 'of',\n",
              " 'at',\n",
              " 'by',\n",
              " 'for',\n",
              " 'with',\n",
              " 'about',\n",
              " 'against',\n",
              " 'between',\n",
              " 'into',\n",
              " 'through',\n",
              " 'during',\n",
              " 'before',\n",
              " 'after',\n",
              " 'above',\n",
              " 'below',\n",
              " 'to',\n",
              " 'from',\n",
              " 'up',\n",
              " 'down',\n",
              " 'in',\n",
              " 'out',\n",
              " 'on',\n",
              " 'off',\n",
              " 'over',\n",
              " 'under',\n",
              " 'again',\n",
              " 'further',\n",
              " 'then',\n",
              " 'once',\n",
              " 'here',\n",
              " 'there',\n",
              " 'when',\n",
              " 'where',\n",
              " 'why',\n",
              " 'how',\n",
              " 'all',\n",
              " 'any',\n",
              " 'both',\n",
              " 'each',\n",
              " 'few',\n",
              " 'more',\n",
              " 'most',\n",
              " 'other',\n",
              " 'some',\n",
              " 'such',\n",
              " 'no',\n",
              " 'nor',\n",
              " 'not',\n",
              " 'only',\n",
              " 'own',\n",
              " 'same',\n",
              " 'so',\n",
              " 'than',\n",
              " 'too',\n",
              " 'very',\n",
              " 's',\n",
              " 't',\n",
              " 'can',\n",
              " 'will',\n",
              " 'just',\n",
              " 'don',\n",
              " \"don't\",\n",
              " 'should',\n",
              " \"should've\",\n",
              " 'now',\n",
              " 'd',\n",
              " 'll',\n",
              " 'm',\n",
              " 'o',\n",
              " 're',\n",
              " 've',\n",
              " 'y',\n",
              " 'ain',\n",
              " 'aren',\n",
              " \"aren't\",\n",
              " 'couldn',\n",
              " \"couldn't\",\n",
              " 'didn',\n",
              " \"didn't\",\n",
              " 'doesn',\n",
              " \"doesn't\",\n",
              " 'hadn',\n",
              " \"hadn't\",\n",
              " 'hasn',\n",
              " \"hasn't\",\n",
              " 'haven',\n",
              " \"haven't\",\n",
              " 'isn',\n",
              " \"isn't\",\n",
              " 'ma',\n",
              " 'mightn',\n",
              " \"mightn't\",\n",
              " 'mustn',\n",
              " \"mustn't\",\n",
              " 'needn',\n",
              " \"needn't\",\n",
              " 'shan',\n",
              " \"shan't\",\n",
              " 'shouldn',\n",
              " \"shouldn't\",\n",
              " 'wasn',\n",
              " \"wasn't\",\n",
              " 'weren',\n",
              " \"weren't\",\n",
              " 'won',\n",
              " \"won't\",\n",
              " 'wouldn',\n",
              " \"wouldn't\"]"
            ]
          },
          "metadata": {},
          "execution_count": 45
        }
      ]
    },
    {
      "cell_type": "code",
      "source": [
        "words=[]\n",
        "for i  in range(len(tokens)):\n",
        "    words.append(sent_tokenize(tokens[i]))"
      ],
      "metadata": {
        "id": "1SoOB_VT1Rtj"
      },
      "execution_count": 42,
      "outputs": []
    },
    {
      "cell_type": "code",
      "source": [
        "words"
      ],
      "metadata": {
        "colab": {
          "base_uri": "https://localhost:8080/"
        },
        "id": "ixYFQHdY1ciD",
        "outputId": "53c636cc-e1e2-4188-8eb7-0f853fb413ad"
      },
      "execution_count": 43,
      "outputs": [
        {
          "output_type": "execute_result",
          "data": {
            "text/plain": [
              "[['\\nI have three visions for India.'],\n",
              " ['In 3000 years of our history people from all over the world have come and invaded us, captured our lands, conquered our minds.'],\n",
              " ['From Alexander onwards the Greeks, the Turks, the Moguls, the Portuguese, the British, the French, the Dutch, all of them came and looted us, took over what was ours.'],\n",
              " ['Yet we have not done this to any other nation.'],\n",
              " ['We have not conquered anyone.'],\n",
              " ['We have not grabbed their land, their culture and their history and tried to enforce our way of life on them.'],\n",
              " ['Why?'],\n",
              " ['Because we respect the freedom of others.'],\n",
              " ['That is why my FIRST VISION is that of FREEDOM.'],\n",
              " ['I believe that India got its first vision of this in 1857, when we started the war of Independence.'],\n",
              " ['It is this freedom that we must protect and nurture and build on.'],\n",
              " ['If we are not free, no one will respect us.'],\n",
              " ['We have 10 percent growth rate in most areas.'],\n",
              " ['Our poverty levels are falling.'],\n",
              " ['Our achievements are being globally recognised today.'],\n",
              " ['Yet we lack the self-confidence to see ourselves as a developed nation, self-reliant and self-assured.'],\n",
              " ['Isn’t this incorrect?'],\n",
              " ['MY SECOND VISION for India is DEVELOPMENT.'],\n",
              " ['For fifty years we have been a developing nation.'],\n",
              " ['It is time we see ourselves as a developed nation.'],\n",
              " ['We are among top five nations in the world in terms of GDP.'],\n",
              " ['I have a THIRD VISION.'],\n",
              " ['India must stand up to the world.'],\n",
              " ['Because I believe that unless India stands up to the world, no one will respect us.'],\n",
              " ['Only strength respects strength.'],\n",
              " ['We must be strong not only as a military power but also as an economic power.'],\n",
              " ['Both must go hand-in-hand.'],\n",
              " ['My good fortune was to have worked with three great minds.'],\n",
              " ['Dr.Vikram Sarabhai, of the Dept.'],\n",
              " ['of Space, Professor Satish Dhawan, who succeeded him and Dr. Brahm Prakash, father of nuclear material.'],\n",
              " ['I was lucky to have worked with all three of them closely and consider this the great opportunity of my life.'],\n",
              " ['I was in Hyderabad giving this lecture, when a 14 year-old girl asked me for my autograph.'],\n",
              " ['I asked her what her goal in life is.'],\n",
              " ['She replied: I want to live in a developed India.'],\n",
              " ['For her, you and I will have to build this developed India.'],\n",
              " ['You must proclaim India is not an underdeveloped nation; it is a highly developed nation.'],\n",
              " ['You say that our government is inefficient.'],\n",
              " ['You say that our laws are too old.'],\n",
              " ['You say that the municipality does not pick up the garbage.'],\n",
              " ['You say that the phones don’t work, the railways are a joke, the airline is the worst in the world, and mails never reach their destination.'],\n",
              " ['You say that our country has been fed to the dogs and is the absolute pits.'],\n",
              " ['You say, say and say.'],\n",
              " ['What do you do about it?']]"
            ]
          },
          "metadata": {},
          "execution_count": 43
        }
      ]
    },
    {
      "cell_type": "code",
      "source": [
        "processed_text = []\n",
        "\n",
        "for word in words:\n",
        "    temp_word = []\n",
        "    for w in word:\n",
        "        if w not in stopwords:\n",
        "            temp_word.append(stemmer.lemmatize(w))\n",
        "    processed_text.append(' '.join(temp_word))\n",
        "\n",
        "# Join the processed words after the loop\n",
        "final_text = ' '.join(processed_text)\n",
        "\n",
        "print(final_text)\n"
      ],
      "metadata": {
        "colab": {
          "base_uri": "https://localhost:8080/"
        },
        "id": "9yLazbc71iuc",
        "outputId": "60235940-ced3-4aea-c561-0f9f8f9f6dc5"
      },
      "execution_count": 44,
      "outputs": [
        {
          "output_type": "stream",
          "name": "stdout",
          "text": [
            "\n",
            "I have three visions for India. In 3000 years of our history people from all over the world have come and invaded us, captured our lands, conquered our minds. From Alexander onwards the Greeks, the Turks, the Moguls, the Portuguese, the British, the French, the Dutch, all of them came and looted us, took over what was ours. Yet we have not done this to any other nation. We have not conquered anyone. We have not grabbed their land, their culture and their history and tried to enforce our way of life on them. Why? Because we respect the freedom of others. That is why my FIRST VISION is that of FREEDOM. I believe that India got its first vision of this in 1857, when we started the war of Independence. It is this freedom that we must protect and nurture and build on. If we are not free, no one will respect us. We have 10 percent growth rate in most areas. Our poverty levels are falling. Our achievements are being globally recognised today. Yet we lack the self-confidence to see ourselves as a developed nation, self-reliant and self-assured. Isn’t this incorrect? MY SECOND VISION for India is DEVELOPMENT. For fifty years we have been a developing nation. It is time we see ourselves as a developed nation. We are among top five nations in the world in terms of GDP. I have a THIRD VISION. India must stand up to the world. Because I believe that unless India stands up to the world, no one will respect us. Only strength respects strength. We must be strong not only as a military power but also as an economic power. Both must go hand-in-hand. My good fortune was to have worked with three great minds. Dr.Vikram Sarabhai, of the Dept. of Space, Professor Satish Dhawan, who succeeded him and Dr. Brahm Prakash, father of nuclear material. I was lucky to have worked with all three of them closely and consider this the great opportunity of my life. I was in Hyderabad giving this lecture, when a 14 year-old girl asked me for my autograph. I asked her what her goal in life is. She replied: I want to live in a developed India. For her, you and I will have to build this developed India. You must proclaim India is not an underdeveloped nation; it is a highly developed nation. You say that our government is inefficient. You say that our laws are too old. You say that the municipality does not pick up the garbage. You say that the phones don’t work, the railways are a joke, the airline is the worst in the world, and mails never reach their destination. You say that our country has been fed to the dogs and is the absolute pits. You say, say and say. What do you do about it?\n"
          ]
        }
      ]
    },
    {
      "cell_type": "code",
      "source": [
        "\n",
        "# Make sure to download the necessary nltk packages first\n",
        "# nltk.download('punkt')\n",
        "# nltk.download('stopwords')\n",
        "# nltk.download('wordnet')\n",
        "processed=[]\n",
        "\n",
        "def preprocess_text(text):\n",
        "    # Initialize lemmatizer and stopwords\n",
        "\n",
        "    stop_words = set(stopwords.words('english'))\n",
        "\n",
        "    # 1. Lowercase the text\n",
        "    text = text.lower()\n",
        "\n",
        "    # 2. Remove special characters and numbers (optional step)\n",
        "    text = re.sub(r'[^a-z\\s]', '', text)\n",
        "\n",
        "    # 3. Tokenize the text\n",
        "    words = sent_tokenize(text)\n",
        "\n",
        "    # 4. Remove stopwords and lemmatize each word\n",
        "    processed_text = [stemmer.lemmatize(word) for word in words if word not in stop_words]\n",
        "\n",
        "\n",
        "    # 5. Join the words back into a single string\n",
        "    #return ' '.join(processed_text)\n",
        "\n",
        "# Example usage\n",
        "\n",
        "\n",
        "processed = preprocess_text\n",
        "print(processed)\n"
      ],
      "metadata": {
        "colab": {
          "base_uri": "https://localhost:8080/"
        },
        "id": "mbM3RUQx22zH",
        "outputId": "6287cc68-c227-4b9e-94bc-380c5ae86365"
      },
      "execution_count": 55,
      "outputs": [
        {
          "output_type": "stream",
          "name": "stdout",
          "text": [
            "['\\nI have three visions for India.']\n",
            "['In 3000 years of our history people from all over the world have come and invaded us, captured our lands, conquered our minds.']\n",
            "['From Alexander onwards the Greeks, the Turks, the Moguls, the Portuguese, the British, the French, the Dutch, all of them came and looted us, took over what was ours.']\n",
            "['Yet we have not done this to any other nation.']\n",
            "['We have not conquered anyone.']\n",
            "['We have not grabbed their land, their culture and their history and tried to enforce our way of life on them.']\n",
            "['Why?']\n",
            "['Because we respect the freedom of others.']\n",
            "['That is why my FIRST VISION is that of FREEDOM.']\n",
            "['I believe that India got its first vision of this in 1857, when we started the war of Independence.']\n",
            "['It is this freedom that we must protect and nurture and build on.']\n",
            "['If we are not free, no one will respect us.']\n",
            "['We have 10 percent growth rate in most areas.']\n",
            "['Our poverty levels are falling.']\n",
            "['Our achievements are being globally recognised today.']\n",
            "['Yet we lack the self-confidence to see ourselves as a developed nation, self-reliant and self-assured.']\n",
            "['Isn’t this incorrect?']\n",
            "['MY SECOND VISION for India is DEVELOPMENT.']\n",
            "['For fifty years we have been a developing nation.']\n",
            "['It is time we see ourselves as a developed nation.']\n",
            "['We are among top five nations in the world in terms of GDP.']\n",
            "['I have a THIRD VISION.']\n",
            "['India must stand up to the world.']\n",
            "['Because I believe that unless India stands up to the world, no one will respect us.']\n",
            "['Only strength respects strength.']\n",
            "['We must be strong not only as a military power but also as an economic power.']\n",
            "['Both must go hand-in-hand.']\n",
            "['My good fortune was to have worked with three great minds.']\n",
            "['Dr.Vikram Sarabhai, of the Dept.']\n",
            "['of Space, Professor Satish Dhawan, who succeeded him and Dr. Brahm Prakash, father of nuclear material.']\n",
            "['I was lucky to have worked with all three of them closely and consider this the great opportunity of my life.']\n",
            "['I was in Hyderabad giving this lecture, when a 14 year-old girl asked me for my autograph.']\n",
            "['I asked her what her goal in life is.']\n",
            "['She replied: I want to live in a developed India.']\n",
            "['For her, you and I will have to build this developed India.']\n",
            "['You must proclaim India is not an underdeveloped nation; it is a highly developed nation.']\n",
            "['You say that our government is inefficient.']\n",
            "['You say that our laws are too old.']\n",
            "['You say that the municipality does not pick up the garbage.']\n",
            "['You say that the phones don’t work, the railways are a joke, the airline is the worst in the world, and mails never reach their destination.']\n",
            "['You say that our country has been fed to the dogs and is the absolute pits.']\n",
            "['You say, say and say.']\n",
            "['What do you do about it?']\n",
            "<function preprocess_text at 0x7de7e9e3a9e0>\n"
          ]
        }
      ]
    },
    {
      "cell_type": "code",
      "source": [
        "(import gensim"
      ],
      "metadata": {
        "id": "f0q3PETz6IOI"
      },
      "execution_count": 51,
      "outputs": []
    },
    {
      "cell_type": "code",
      "source": [
        "model=gensim.models.word2vec(processed)"
      ],
      "metadata": {
        "colab": {
          "base_uri": "https://localhost:8080/",
          "height": 141
        },
        "id": "GLCsDbrF5z1n",
        "outputId": "1683cdd0-fe6d-49e4-da23-f6a8ab2ca6f5"
      },
      "execution_count": 52,
      "outputs": [
        {
          "output_type": "error",
          "ename": "TypeError",
          "evalue": "'module' object is not callable",
          "traceback": [
            "\u001b[0;31m---------------------------------------------------------------------------\u001b[0m",
            "\u001b[0;31mTypeError\u001b[0m                                 Traceback (most recent call last)",
            "\u001b[0;32m<ipython-input-52-8174fffd19a4>\u001b[0m in \u001b[0;36m<cell line: 1>\u001b[0;34m()\u001b[0m\n\u001b[0;32m----> 1\u001b[0;31m \u001b[0mmodel\u001b[0m\u001b[0;34m=\u001b[0m\u001b[0mgensim\u001b[0m\u001b[0;34m.\u001b[0m\u001b[0mmodels\u001b[0m\u001b[0;34m.\u001b[0m\u001b[0mword2vec\u001b[0m\u001b[0;34m(\u001b[0m\u001b[0mprocessed\u001b[0m\u001b[0;34m)\u001b[0m\u001b[0;34m\u001b[0m\u001b[0;34m\u001b[0m\u001b[0m\n\u001b[0m",
            "\u001b[0;31mTypeError\u001b[0m: 'module' object is not callable"
          ]
        }
      ]
    }
  ]
}