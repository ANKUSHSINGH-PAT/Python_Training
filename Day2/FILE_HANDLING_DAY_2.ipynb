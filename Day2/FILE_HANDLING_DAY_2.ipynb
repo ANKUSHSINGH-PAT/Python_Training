{
 "cells": [
  {
   "cell_type": "markdown",
   "id": "253edf7f",
   "metadata": {},
   "source": [
    "# File Handling"
   ]
  },
  {
   "cell_type": "raw",
   "id": "0f3a58b3",
   "metadata": {},
   "source": [
    "File handling in Python involves manipulating files, such as reading from and writing to them. Python provides built-in functions and methods to work with files effectively."
   ]
  },
  {
   "cell_type": "code",
   "execution_count": 1,
   "id": "504a69eb",
   "metadata": {},
   "outputs": [
    {
     "name": "stdout",
     "output_type": "stream",
     "text": [
      "Today is a beautiful day.\n"
     ]
    }
   ],
   "source": [
    "# Example of File Handling:\n",
    "# Writing to a file\n",
    "with open(\"example.txt\", \"w\") as file:\n",
    "    file.write(\"Today is a beautiful day.\")\n",
    "\n",
    "# Reading from a file\n",
    "with open(\"example.txt\", \"r\") as file:\n",
    "    data = file.read()\n",
    "    print(data)\n",
    "    \n",
    "# In this example:\n",
    "\n",
    "# We use the open() function to open a file in write mode (\"w\") to write data into it.\n",
    "# Then, we write the string into the file.\n",
    "# We open the same file in read mode (\"r\") to read the content using the read() method."
   ]
  },
  {
   "cell_type": "code",
   "execution_count": 2,
   "id": "9da9acad",
   "metadata": {},
   "outputs": [
    {
     "ename": "FileNotFoundError",
     "evalue": "[Errno 2] No such file or directory: 'New Text Document.txt'",
     "output_type": "error",
     "traceback": [
      "\u001b[1;31m---------------------------------------------------------------------------\u001b[0m",
      "\u001b[1;31mFileNotFoundError\u001b[0m                         Traceback (most recent call last)",
      "Cell \u001b[1;32mIn[2], line 3\u001b[0m\n\u001b[0;32m      1\u001b[0m \u001b[38;5;66;03m#Files i/o / Files Handling \u001b[39;00m\n\u001b[0;32m      2\u001b[0m path\u001b[38;5;241m=\u001b[39m\u001b[38;5;124mr\u001b[39m\u001b[38;5;124m'\u001b[39m\u001b[38;5;124mNew Text Document.txt\u001b[39m\u001b[38;5;124m'\u001b[39m\n\u001b[1;32m----> 3\u001b[0m file_object\u001b[38;5;241m=\u001b[39m\u001b[38;5;28;43mopen\u001b[39;49m\u001b[43m(\u001b[49m\u001b[43mpath\u001b[49m\u001b[43m)\u001b[49m\n\u001b[0;32m      4\u001b[0m data\u001b[38;5;241m=\u001b[39m file_object\u001b[38;5;241m.\u001b[39mread()\n\u001b[0;32m      5\u001b[0m \u001b[38;5;28mprint\u001b[39m(data)\n",
      "File \u001b[1;32mc:\\Users\\AnkushAnkush2\\Desktop\\Python\\.venv\\Lib\\site-packages\\IPython\\core\\interactiveshell.py:324\u001b[0m, in \u001b[0;36m_modified_open\u001b[1;34m(file, *args, **kwargs)\u001b[0m\n\u001b[0;32m    317\u001b[0m \u001b[38;5;28;01mif\u001b[39;00m file \u001b[38;5;129;01min\u001b[39;00m {\u001b[38;5;241m0\u001b[39m, \u001b[38;5;241m1\u001b[39m, \u001b[38;5;241m2\u001b[39m}:\n\u001b[0;32m    318\u001b[0m     \u001b[38;5;28;01mraise\u001b[39;00m \u001b[38;5;167;01mValueError\u001b[39;00m(\n\u001b[0;32m    319\u001b[0m         \u001b[38;5;124mf\u001b[39m\u001b[38;5;124m\"\u001b[39m\u001b[38;5;124mIPython won\u001b[39m\u001b[38;5;124m'\u001b[39m\u001b[38;5;124mt let you open fd=\u001b[39m\u001b[38;5;132;01m{\u001b[39;00mfile\u001b[38;5;132;01m}\u001b[39;00m\u001b[38;5;124m by default \u001b[39m\u001b[38;5;124m\"\u001b[39m\n\u001b[0;32m    320\u001b[0m         \u001b[38;5;124m\"\u001b[39m\u001b[38;5;124mas it is likely to crash IPython. If you know what you are doing, \u001b[39m\u001b[38;5;124m\"\u001b[39m\n\u001b[0;32m    321\u001b[0m         \u001b[38;5;124m\"\u001b[39m\u001b[38;5;124myou can use builtins\u001b[39m\u001b[38;5;124m'\u001b[39m\u001b[38;5;124m open.\u001b[39m\u001b[38;5;124m\"\u001b[39m\n\u001b[0;32m    322\u001b[0m     )\n\u001b[1;32m--> 324\u001b[0m \u001b[38;5;28;01mreturn\u001b[39;00m \u001b[43mio_open\u001b[49m\u001b[43m(\u001b[49m\u001b[43mfile\u001b[49m\u001b[43m,\u001b[49m\u001b[43m \u001b[49m\u001b[38;5;241;43m*\u001b[39;49m\u001b[43margs\u001b[49m\u001b[43m,\u001b[49m\u001b[43m \u001b[49m\u001b[38;5;241;43m*\u001b[39;49m\u001b[38;5;241;43m*\u001b[39;49m\u001b[43mkwargs\u001b[49m\u001b[43m)\u001b[49m\n",
      "\u001b[1;31mFileNotFoundError\u001b[0m: [Errno 2] No such file or directory: 'New Text Document.txt'"
     ]
    }
   ],
   "source": [
    "#Files i/o / Files Handling \n",
    "path=r'New Text Document.txt'\n",
    "file_object=open(path)\n",
    "data= file_object.read()\n",
    "print(data)"
   ]
  },
  {
   "cell_type": "code",
   "execution_count": null,
   "id": "920d4933",
   "metadata": {},
   "outputs": [
    {
     "name": "stdout",
     "output_type": "stream",
     "text": [
      "<class 'list'>\n",
      "['Hello All! Welcome to Python Training. The Trainers are:\\n', 'Chandan Kumar Singh\\n', 'Samrat Paul\\n', 'Surbhi Bahl\\n']\n",
      "Hello All! Welcome to Python Training. The Trainers are:\n",
      "\n",
      "Chandan Kumar Singh\n",
      "\n",
      "Samrat Paul\n",
      "\n",
      "Surbhi Bahl\n",
      "\n"
     ]
    }
   ],
   "source": [
    "file_object=open(r'New Text Document.txt')\n",
    "lines=file_object.readlines()#Will provide you the list of file \n",
    "print(type(lines))\n",
    "print(lines)\n",
    "for i in lines:\n",
    "    print(i)"
   ]
  },
  {
   "cell_type": "code",
   "execution_count": null,
   "id": "65598890",
   "metadata": {},
   "outputs": [],
   "source": [
    "file_object=open(r'New Text Document.txt','a')\n",
    "file_object.write(\"\\nMy name is Samrat and I created this file .\")\n",
    "file_object.close()"
   ]
  },
  {
   "cell_type": "code",
   "execution_count": null,
   "id": "9c730d1a",
   "metadata": {},
   "outputs": [
    {
     "name": "stdout",
     "output_type": "stream",
     "text": [
      "Hello All! Welcome to Python Training. The Trainers are:\n",
      "Chandan Kumar Singh\n",
      "Samrat Paul\n",
      "Surbhi Bahl\n",
      "\n",
      "My name is Samrat and I created this file .\n"
     ]
    }
   ],
   "source": [
    "#with statement \n",
    "#with open(<file name>, <access mode>) as <file-pointer>:    \n",
    "with open(r\"New Text Document.txt\",\"r\") as a :\n",
    "    lines=a.read()\n",
    "    print(lines)"
   ]
  },
  {
   "cell_type": "code",
   "execution_count": null,
   "id": "92f2e0b4",
   "metadata": {},
   "outputs": [
    {
     "name": "stdout",
     "output_type": "stream",
     "text": [
      "C:\\Users\\004CKR744\\Desktop\\Day2- Py Training\\samrat.txt\n",
      "written successfully\n"
     ]
    }
   ],
   "source": [
    "import os \n",
    "path1=r\"C:\\Users\\004CKR744\\Desktop\\Day2- Py Training\"\n",
    "filename=\"samrat.txt\"\n",
    "path2=os.path.join(path1,filename)\n",
    "print(path2)\n",
    "if (os.path.exists(path2)):\n",
    "    with open(path2,\"a\") as a :\n",
    "        a.write(\"\\n\")\n",
    "        lines=a.write(\"I am in Pune\")\n",
    "        a.close()\n",
    "        print(\"written successfully\")\n",
    "else:\n",
    "    print(\"file dose not exits \")"
   ]
  },
  {
   "cell_type": "markdown",
   "id": "a0cf5b43",
   "metadata": {},
   "source": [
    "# Exception Handling "
   ]
  },
  {
   "cell_type": "raw",
   "id": "ed4e8fe2",
   "metadata": {},
   "source": [
    "Exception handling in Python allows you to gracefully handle errors that occur during program execution. It prevents the program from crashing and provides a mechanism to handle unexpected situations."
   ]
  },
  {
   "cell_type": "code",
   "execution_count": null,
   "id": "83eb38f0",
   "metadata": {},
   "outputs": [
    {
     "name": "stdout",
     "output_type": "stream",
     "text": [
      "I am not able to find the file .\n"
     ]
    }
   ],
   "source": [
    "#exception handling \n",
    "try:\n",
    "    \n",
    "    fh = open(r\"C:\\Users\\004CKR744\\Desktoptyr\\Day2- Py Training\\samrat2.txt\", \"a\")\n",
    "    fh.write(\"This is my test file for exception handling!!\")\n",
    "except:\n",
    "    print(\"I am not able to find the file .\")\n",
    "else:\n",
    "    print(\"File created sucessfully.\")"
   ]
  },
  {
   "cell_type": "code",
   "execution_count": null,
   "id": "00811bb4",
   "metadata": {},
   "outputs": [
    {
     "name": "stdout",
     "output_type": "stream",
     "text": [
      "File created sucessfully.\n"
     ]
    }
   ],
   "source": [
    "try:\n",
    "    \n",
    "    fh = open(r\"C:\\Users\\004CKR744\\Desktop\\Day2- Py Training\\samrat.txt\", \"a\")\n",
    "    fh.write(\"This is my test file for exception handling!!\")\n",
    "    fh.close()\n",
    "except:\n",
    "    print(\"I am not able to find the file .\")\n",
    "else:\n",
    "    print(\"File created sucessfully.\")"
   ]
  },
  {
   "cell_type": "markdown",
   "id": "666ff5ee",
   "metadata": {},
   "source": [
    "## finally :-Final block will run no matter if the try block is executed successfully or not ."
   ]
  },
  {
   "cell_type": "code",
   "execution_count": null,
   "id": "67268940",
   "metadata": {},
   "outputs": [
    {
     "name": "stdout",
     "output_type": "stream",
     "text": [
      "I am not able to find the file .\n",
      "I am going now thanks \n"
     ]
    }
   ],
   "source": [
    "try:\n",
    "    \n",
    "    fh = open(r\"C:\\Users\\004CKR744\\Desktop\\Day2- Py Training\\samrat.txt\", \"r\")\n",
    "    fh.write(\"This is my test file for exception handling!!\")\n",
    "    fh.read()\n",
    "    fh.close()\n",
    "except:\n",
    "    print(\"I am not able to find the file .\")\n",
    "else:\n",
    "    print(\"File created sucessfully.\")\n",
    "finally:\n",
    "    print(\"I am going now thanks \")"
   ]
  },
  {
   "cell_type": "raw",
   "id": "936b059b",
   "metadata": {},
   "source": [
    "What if we use valueerror without handling it properly"
   ]
  },
  {
   "cell_type": "code",
   "execution_count": null,
   "id": "468fe48a",
   "metadata": {},
   "outputs": [
    {
     "name": "stdout",
     "output_type": "stream",
     "text": [
      "enter the age 10\n",
      "enter the number0\n",
      "10\n",
      "division by zero\n",
      "finally done\n"
     ]
    }
   ],
   "source": [
    "try:\n",
    "    age=int(input(\"enter the age \"))\n",
    "    num=int(input(\"enter the number\"))\n",
    "    raise ValueError('not in a mood to move further ')\n",
    "    print(age)\n",
    "    age/num\n",
    "except Exception as err:\n",
    "    print(err)\n",
    "# except:\n",
    "#     print(\"Error\")\n",
    "else:\n",
    "    print(\"successfully done \")\n",
    "finally:\n",
    "    print(\"finally done\")"
   ]
  },
  {
   "cell_type": "code",
   "execution_count": null,
   "id": "a36e68d0",
   "metadata": {},
   "outputs": [
    {
     "name": "stdout",
     "output_type": "stream",
     "text": [
      "Error: Division by zero!\n",
      "Here\n",
      "Error: Division by zero is not allowed\n",
      "Finally block executed\n"
     ]
    },
    {
     "ename": "TypeError",
     "evalue": "unsupported operand type(s) for /: 'int' and 'str'",
     "output_type": "error",
     "traceback": [
      "\u001b[1;31m---------------------------------------------------------------------------\u001b[0m",
      "\u001b[1;31mTypeError\u001b[0m                                 Traceback (most recent call last)",
      "\u001b[1;32m~\\AppData\\Local\\Temp\\ipykernel_28936\\3656422448.py\u001b[0m in \u001b[0;36m<module>\u001b[1;34m\u001b[0m\n\u001b[0;32m     27\u001b[0m \u001b[1;32mtry\u001b[0m\u001b[1;33m:\u001b[0m\u001b[1;33m\u001b[0m\u001b[1;33m\u001b[0m\u001b[0m\n\u001b[0;32m     28\u001b[0m     \u001b[1;31m# Code that may raise an exception\u001b[0m\u001b[1;33m\u001b[0m\u001b[1;33m\u001b[0m\u001b[1;33m\u001b[0m\u001b[0m\n\u001b[1;32m---> 29\u001b[1;33m     \u001b[0mresult\u001b[0m \u001b[1;33m=\u001b[0m \u001b[1;36m10\u001b[0m \u001b[1;33m/\u001b[0m \u001b[1;34m'str'\u001b[0m\u001b[1;33m\u001b[0m\u001b[1;33m\u001b[0m\u001b[0m\n\u001b[0m\u001b[0;32m     30\u001b[0m \u001b[1;32mexcept\u001b[0m \u001b[0mZeroDivisionError\u001b[0m\u001b[1;33m:\u001b[0m\u001b[1;33m\u001b[0m\u001b[1;33m\u001b[0m\u001b[0m\n\u001b[0;32m     31\u001b[0m     \u001b[0mprint\u001b[0m\u001b[1;33m(\u001b[0m\u001b[1;34m\"Error: Division by zero!\"\u001b[0m\u001b[1;33m)\u001b[0m\u001b[1;33m\u001b[0m\u001b[1;33m\u001b[0m\u001b[0m\n",
      "\u001b[1;31mTypeError\u001b[0m: unsupported operand type(s) for /: 'int' and 'str'"
     ]
    }
   ],
   "source": [
    "\n",
    "# Handling exceptions\n",
    "try:\n",
    "    \n",
    "    result = 10/0\n",
    "    print(result)\n",
    "except ZeroDivisionError:\n",
    "    print(\"Error: Division by zero!\")\n",
    "\n",
    "\n",
    "# Raising exceptions\n",
    "def divide(x, y):\n",
    "    if y == 0:\n",
    "        print(\"Here\")\n",
    "        raise ValueError(\"Division by zero is not allowed\")\n",
    "        \n",
    "    return x / y\n",
    "\n",
    "\n",
    "# Catching exceptions\n",
    "try:\n",
    "    divide(2, 0)\n",
    "except ValueError as e:\n",
    "    print(\"Error:\", e)\n",
    "\n",
    "    \n",
    "# Using Try/Except/Else/Finally Exceptions\n",
    "try:\n",
    "    # Code that may raise an exception\n",
    "    result = 10 / 'str'\n",
    "except ZeroDivisionError:\n",
    "    print(\"Error: Division by zero!\")\n",
    "else:\n",
    "    # Code to execute if no exception is raised\n",
    "    print(\"Result:\", result)\n",
    "finally:\n",
    "    # Code that always runs, regardless of whether an exception is raised or not\n",
    "    print(\"Finally block executed\")\n",
    "# In this example:\n",
    "\n",
    "# We use try and except blocks to handle exceptions. If an exception occurs within the try block, it's caught by the corresponding except block.\n",
    "# We use raise to raise a specific exception (ValueError) with a custom error message.\n",
    "# We use try, except, else, and finally blocks together:\n",
    "# try: The code that may raise an exception.\n",
    "# except: Handles exceptions raised in the try block.\n",
    "# else: Executes if no exception is raised in the try block.\n",
    "# finally: Executes regardless of whether an exception is raised or not."
   ]
  },
  {
   "cell_type": "code",
   "execution_count": null,
   "id": "c1cc6963",
   "metadata": {},
   "outputs": [],
   "source": []
  }
 ],
 "metadata": {
  "kernelspec": {
   "display_name": "Python 3 (ipykernel)",
   "language": "python",
   "name": "python3"
  },
  "language_info": {
   "codemirror_mode": {
    "name": "ipython",
    "version": 3
   },
   "file_extension": ".py",
   "mimetype": "text/x-python",
   "name": "python",
   "nbconvert_exporter": "python",
   "pygments_lexer": "ipython3",
   "version": "3.12.4"
  }
 },
 "nbformat": 4,
 "nbformat_minor": 5
}
